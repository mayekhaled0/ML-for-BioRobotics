{
 "cells": [
  {
   "cell_type": "markdown",
   "metadata": {},
   "source": [
    "---\n",
    "## Cairo University Faculty of Engineering\n",
    "### ML for Bio Robotics 2024\n",
    "### Task 2\n",
    "#### Team 8\n",
    "---"
   ]
  },
  {
   "cell_type": "markdown",
   "metadata": {},
   "source": [
    "**In This Task :**\n",
    "- We implement KNN, and Radius Nearest Neighbor algorithm on Prostate Cancer Predictions dataset using both (Scikit-learn and Python form scratch implementation).\n",
    "- We apply all needed data preparation, and data analysis.\n",
    "- We use accuracy as an evaluation matrix for both models \n",
    "- We compare the results before and after data processing for both models.\n"
   ]
  },
  {
   "cell_type": "markdown",
   "metadata": {},
   "source": [
    "# Importing Libraries"
   ]
  },
  {
   "cell_type": "code",
   "execution_count": 1,
   "metadata": {},
   "outputs": [],
   "source": [
    "# Packages needed\n",
    "\n",
    "import numpy as np\n",
    "import pandas as pd\n",
    "from sklearn.model_selection import train_test_split\n",
    "from sklearn.neighbors import KNeighborsClassifier\n",
    "from scipy import stats\n",
    "from sklearn.neighbors import RadiusNeighborsClassifier\n",
    "from sklearn.metrics import accuracy_score\n",
    "from sklearn.metrics import confusion_matrix\n",
    "from matplotlib import pyplot as plt\n",
    "import seaborn as sns"
   ]
  },
  {
   "cell_type": "markdown",
   "metadata": {},
   "source": [
    "# Data Loading"
   ]
  },
  {
   "cell_type": "code",
   "execution_count": 2,
   "metadata": {},
   "outputs": [
    {
     "data": {
      "text/html": [
       "<div>\n",
       "<style scoped>\n",
       "    .dataframe tbody tr th:only-of-type {\n",
       "        vertical-align: middle;\n",
       "    }\n",
       "\n",
       "    .dataframe tbody tr th {\n",
       "        vertical-align: top;\n",
       "    }\n",
       "\n",
       "    .dataframe thead th {\n",
       "        text-align: right;\n",
       "    }\n",
       "</style>\n",
       "<table border=\"1\" class=\"dataframe\">\n",
       "  <thead>\n",
       "    <tr style=\"text-align: right;\">\n",
       "      <th></th>\n",
       "      <th>id</th>\n",
       "      <th>diagnosis_result</th>\n",
       "      <th>radius</th>\n",
       "      <th>texture</th>\n",
       "      <th>perimeter</th>\n",
       "      <th>area</th>\n",
       "      <th>smoothness</th>\n",
       "      <th>compactness</th>\n",
       "      <th>symmetry</th>\n",
       "      <th>fractal_dimension</th>\n",
       "    </tr>\n",
       "  </thead>\n",
       "  <tbody>\n",
       "    <tr>\n",
       "      <th>0</th>\n",
       "      <td>1</td>\n",
       "      <td>M</td>\n",
       "      <td>23</td>\n",
       "      <td>12</td>\n",
       "      <td>151</td>\n",
       "      <td>954</td>\n",
       "      <td>0.143</td>\n",
       "      <td>0.278</td>\n",
       "      <td>0.242</td>\n",
       "      <td>0.079</td>\n",
       "    </tr>\n",
       "    <tr>\n",
       "      <th>1</th>\n",
       "      <td>2</td>\n",
       "      <td>B</td>\n",
       "      <td>9</td>\n",
       "      <td>13</td>\n",
       "      <td>133</td>\n",
       "      <td>1326</td>\n",
       "      <td>0.143</td>\n",
       "      <td>0.079</td>\n",
       "      <td>0.181</td>\n",
       "      <td>0.057</td>\n",
       "    </tr>\n",
       "    <tr>\n",
       "      <th>2</th>\n",
       "      <td>3</td>\n",
       "      <td>M</td>\n",
       "      <td>21</td>\n",
       "      <td>27</td>\n",
       "      <td>130</td>\n",
       "      <td>1203</td>\n",
       "      <td>0.125</td>\n",
       "      <td>0.160</td>\n",
       "      <td>0.207</td>\n",
       "      <td>0.060</td>\n",
       "    </tr>\n",
       "    <tr>\n",
       "      <th>3</th>\n",
       "      <td>4</td>\n",
       "      <td>M</td>\n",
       "      <td>14</td>\n",
       "      <td>16</td>\n",
       "      <td>78</td>\n",
       "      <td>386</td>\n",
       "      <td>0.070</td>\n",
       "      <td>0.284</td>\n",
       "      <td>0.260</td>\n",
       "      <td>0.097</td>\n",
       "    </tr>\n",
       "    <tr>\n",
       "      <th>4</th>\n",
       "      <td>5</td>\n",
       "      <td>M</td>\n",
       "      <td>9</td>\n",
       "      <td>19</td>\n",
       "      <td>135</td>\n",
       "      <td>1297</td>\n",
       "      <td>0.141</td>\n",
       "      <td>0.133</td>\n",
       "      <td>0.181</td>\n",
       "      <td>0.059</td>\n",
       "    </tr>\n",
       "  </tbody>\n",
       "</table>\n",
       "</div>"
      ],
      "text/plain": [
       "   id diagnosis_result  radius  texture  perimeter  area  smoothness  \\\n",
       "0   1                M      23       12        151   954       0.143   \n",
       "1   2                B       9       13        133  1326       0.143   \n",
       "2   3                M      21       27        130  1203       0.125   \n",
       "3   4                M      14       16         78   386       0.070   \n",
       "4   5                M       9       19        135  1297       0.141   \n",
       "\n",
       "   compactness  symmetry  fractal_dimension  \n",
       "0        0.278     0.242              0.079  \n",
       "1        0.079     0.181              0.057  \n",
       "2        0.160     0.207              0.060  \n",
       "3        0.284     0.260              0.097  \n",
       "4        0.133     0.181              0.059  "
      ]
     },
     "execution_count": 2,
     "metadata": {},
     "output_type": "execute_result"
    }
   ],
   "source": [
    "df = pd.read_csv(\"Prostate_Cancer.csv\")\n",
    "df.head()"
   ]
  },
  {
   "cell_type": "markdown",
   "metadata": {},
   "source": [
    "## Take a look at the data"
   ]
  },
  {
   "cell_type": "code",
   "execution_count": 3,
   "metadata": {},
   "outputs": [
    {
     "name": "stdout",
     "output_type": "stream",
     "text": [
      "<class 'pandas.core.frame.DataFrame'>\n",
      "RangeIndex: 100 entries, 0 to 99\n",
      "Data columns (total 10 columns):\n",
      " #   Column             Non-Null Count  Dtype  \n",
      "---  ------             --------------  -----  \n",
      " 0   id                 100 non-null    int64  \n",
      " 1   diagnosis_result   100 non-null    object \n",
      " 2   radius             100 non-null    int64  \n",
      " 3   texture            100 non-null    int64  \n",
      " 4   perimeter          100 non-null    int64  \n",
      " 5   area               100 non-null    int64  \n",
      " 6   smoothness         100 non-null    float64\n",
      " 7   compactness        100 non-null    float64\n",
      " 8   symmetry           100 non-null    float64\n",
      " 9   fractal_dimension  100 non-null    float64\n",
      "dtypes: float64(4), int64(5), object(1)\n",
      "memory usage: 7.9+ KB\n"
     ]
    }
   ],
   "source": [
    "df.info()"
   ]
  },
  {
   "cell_type": "markdown",
   "metadata": {},
   "source": [
    "The info shows that the data has no null values, and only one non numerical value."
   ]
  },
  {
   "cell_type": "markdown",
   "metadata": {},
   "source": [
    "### Dealing with non numerical values"
   ]
  },
  {
   "cell_type": "code",
   "execution_count": 4,
   "metadata": {},
   "outputs": [
    {
     "data": {
      "text/plain": [
       "array(['M', 'B'], dtype=object)"
      ]
     },
     "execution_count": 4,
     "metadata": {},
     "output_type": "execute_result"
    }
   ],
   "source": [
    "df['diagnosis_result'].unique()"
   ]
  },
  {
   "cell_type": "code",
   "execution_count": 5,
   "metadata": {},
   "outputs": [
    {
     "data": {
      "text/html": [
       "<div>\n",
       "<style scoped>\n",
       "    .dataframe tbody tr th:only-of-type {\n",
       "        vertical-align: middle;\n",
       "    }\n",
       "\n",
       "    .dataframe tbody tr th {\n",
       "        vertical-align: top;\n",
       "    }\n",
       "\n",
       "    .dataframe thead th {\n",
       "        text-align: right;\n",
       "    }\n",
       "</style>\n",
       "<table border=\"1\" class=\"dataframe\">\n",
       "  <thead>\n",
       "    <tr style=\"text-align: right;\">\n",
       "      <th></th>\n",
       "      <th>id</th>\n",
       "      <th>diagnosis_result</th>\n",
       "      <th>radius</th>\n",
       "      <th>texture</th>\n",
       "      <th>perimeter</th>\n",
       "      <th>area</th>\n",
       "      <th>smoothness</th>\n",
       "      <th>compactness</th>\n",
       "      <th>symmetry</th>\n",
       "      <th>fractal_dimension</th>\n",
       "    </tr>\n",
       "  </thead>\n",
       "  <tbody>\n",
       "    <tr>\n",
       "      <th>0</th>\n",
       "      <td>1</td>\n",
       "      <td>1</td>\n",
       "      <td>23</td>\n",
       "      <td>12</td>\n",
       "      <td>151</td>\n",
       "      <td>954</td>\n",
       "      <td>0.143</td>\n",
       "      <td>0.278</td>\n",
       "      <td>0.242</td>\n",
       "      <td>0.079</td>\n",
       "    </tr>\n",
       "    <tr>\n",
       "      <th>1</th>\n",
       "      <td>2</td>\n",
       "      <td>0</td>\n",
       "      <td>9</td>\n",
       "      <td>13</td>\n",
       "      <td>133</td>\n",
       "      <td>1326</td>\n",
       "      <td>0.143</td>\n",
       "      <td>0.079</td>\n",
       "      <td>0.181</td>\n",
       "      <td>0.057</td>\n",
       "    </tr>\n",
       "    <tr>\n",
       "      <th>2</th>\n",
       "      <td>3</td>\n",
       "      <td>1</td>\n",
       "      <td>21</td>\n",
       "      <td>27</td>\n",
       "      <td>130</td>\n",
       "      <td>1203</td>\n",
       "      <td>0.125</td>\n",
       "      <td>0.160</td>\n",
       "      <td>0.207</td>\n",
       "      <td>0.060</td>\n",
       "    </tr>\n",
       "    <tr>\n",
       "      <th>3</th>\n",
       "      <td>4</td>\n",
       "      <td>1</td>\n",
       "      <td>14</td>\n",
       "      <td>16</td>\n",
       "      <td>78</td>\n",
       "      <td>386</td>\n",
       "      <td>0.070</td>\n",
       "      <td>0.284</td>\n",
       "      <td>0.260</td>\n",
       "      <td>0.097</td>\n",
       "    </tr>\n",
       "    <tr>\n",
       "      <th>4</th>\n",
       "      <td>5</td>\n",
       "      <td>1</td>\n",
       "      <td>9</td>\n",
       "      <td>19</td>\n",
       "      <td>135</td>\n",
       "      <td>1297</td>\n",
       "      <td>0.141</td>\n",
       "      <td>0.133</td>\n",
       "      <td>0.181</td>\n",
       "      <td>0.059</td>\n",
       "    </tr>\n",
       "  </tbody>\n",
       "</table>\n",
       "</div>"
      ],
      "text/plain": [
       "   id  diagnosis_result  radius  texture  perimeter  area  smoothness  \\\n",
       "0   1                 1      23       12        151   954       0.143   \n",
       "1   2                 0       9       13        133  1326       0.143   \n",
       "2   3                 1      21       27        130  1203       0.125   \n",
       "3   4                 1      14       16         78   386       0.070   \n",
       "4   5                 1       9       19        135  1297       0.141   \n",
       "\n",
       "   compactness  symmetry  fractal_dimension  \n",
       "0        0.278     0.242              0.079  \n",
       "1        0.079     0.181              0.057  \n",
       "2        0.160     0.207              0.060  \n",
       "3        0.284     0.260              0.097  \n",
       "4        0.133     0.181              0.059  "
      ]
     },
     "execution_count": 5,
     "metadata": {},
     "output_type": "execute_result"
    }
   ],
   "source": [
    "df['diagnosis_result'] = df['diagnosis_result'].map({'M': 1, 'B': 0})\n",
    "\n",
    "df.head()"
   ]
  },
  {
   "cell_type": "code",
   "execution_count": 6,
   "metadata": {},
   "outputs": [
    {
     "name": "stdout",
     "output_type": "stream",
     "text": [
      "<class 'pandas.core.frame.DataFrame'>\n",
      "RangeIndex: 100 entries, 0 to 99\n",
      "Data columns (total 10 columns):\n",
      " #   Column             Non-Null Count  Dtype  \n",
      "---  ------             --------------  -----  \n",
      " 0   id                 100 non-null    int64  \n",
      " 1   diagnosis_result   100 non-null    int64  \n",
      " 2   radius             100 non-null    int64  \n",
      " 3   texture            100 non-null    int64  \n",
      " 4   perimeter          100 non-null    int64  \n",
      " 5   area               100 non-null    int64  \n",
      " 6   smoothness         100 non-null    float64\n",
      " 7   compactness        100 non-null    float64\n",
      " 8   symmetry           100 non-null    float64\n",
      " 9   fractal_dimension  100 non-null    float64\n",
      "dtypes: float64(4), int64(6)\n",
      "memory usage: 7.9 KB\n"
     ]
    }
   ],
   "source": [
    "df.info()"
   ]
  },
  {
   "cell_type": "markdown",
   "metadata": {},
   "source": [
    "### Count and visualize the targets"
   ]
  },
  {
   "cell_type": "code",
   "execution_count": 7,
   "metadata": {},
   "outputs": [
    {
     "name": "stderr",
     "output_type": "stream",
     "text": [
      "C:\\Users\\MAI\\AppData\\Local\\Temp\\ipykernel_15600\\1817973566.py:1: FutureWarning: The behavior of `series[i:j]` with an integer-dtype index is deprecated. In a future version, this will be treated as *label-based* indexing, consistent with e.g. `series[i]` lookups. To retain the old behavior, use `series.iloc[i:j]`. To get the future behavior, use `series.loc[i:j]`.\n",
      "  df.diagnosis_result.value_counts()[0:30].plot(kind='bar')\n"
     ]
    },
    {
     "data": {
      "image/png": "[encoded data removed]",
      "text/plain": [
       "<Figure size 432x288 with 1 Axes>"
      ]
     },
     "metadata": {
      "needs_background": "light"
     },
     "output_type": "display_data"
    }
   ],
   "source": [
    "df.diagnosis_result.value_counts()[0:30].plot(kind='bar')\n",
    "plt.show()"
   ]
  },
  {
   "cell_type": "markdown",
   "metadata": {},
   "source": [
    "The data distrubution shows that the malignant values are 62, and the benign values are 38."
   ]
  },
  {
   "cell_type": "markdown",
   "metadata": {},
   "source": [
    "# Data Preparation"
   ]
  },
  {
   "cell_type": "markdown",
   "metadata": {},
   "source": [
    "## Correlation matrix"
   ]
  },
  {
   "cell_type": "code",
   "execution_count": 8,
   "metadata": {},
   "outputs": [
    {
     "data": {
      "text/html": [
       "<div>\n",
       "<style scoped>\n",
       "    .dataframe tbody tr th:only-of-type {\n",
       "        vertical-align: middle;\n",
       "    }\n",
       "\n",
       "    .dataframe tbody tr th {\n",
       "        vertical-align: top;\n",
       "    }\n",
       "\n",
       "    .dataframe thead th {\n",
       "        text-align: right;\n",
       "    }\n",
       "</style>\n",
       "<table border=\"1\" class=\"dataframe\">\n",
       "  <thead>\n",
       "    <tr style=\"text-align: right;\">\n",
       "      <th></th>\n",
       "      <th>id</th>\n",
       "      <th>diagnosis_result</th>\n",
       "      <th>radius</th>\n",
       "      <th>texture</th>\n",
       "      <th>perimeter</th>\n",
       "      <th>area</th>\n",
       "      <th>smoothness</th>\n",
       "      <th>compactness</th>\n",
       "      <th>symmetry</th>\n",
       "      <th>fractal_dimension</th>\n",
       "    </tr>\n",
       "  </thead>\n",
       "  <tbody>\n",
       "    <tr>\n",
       "      <th>id</th>\n",
       "      <td>1.000000</td>\n",
       "      <td>-0.316889</td>\n",
       "      <td>0.047276</td>\n",
       "      <td>0.052263</td>\n",
       "      <td>-0.215953</td>\n",
       "      <td>-0.174354</td>\n",
       "      <td>-0.258328</td>\n",
       "      <td>-0.277554</td>\n",
       "      <td>-0.222334</td>\n",
       "      <td>-0.164946</td>\n",
       "    </tr>\n",
       "    <tr>\n",
       "      <th>diagnosis_result</th>\n",
       "      <td>-0.316889</td>\n",
       "      <td>1.000000</td>\n",
       "      <td>-0.176967</td>\n",
       "      <td>0.070735</td>\n",
       "      <td>0.607498</td>\n",
       "      <td>0.562444</td>\n",
       "      <td>0.197616</td>\n",
       "      <td>0.512234</td>\n",
       "      <td>0.233028</td>\n",
       "      <td>0.008180</td>\n",
       "    </tr>\n",
       "    <tr>\n",
       "      <th>radius</th>\n",
       "      <td>0.047276</td>\n",
       "      <td>-0.176967</td>\n",
       "      <td>1.000000</td>\n",
       "      <td>0.100245</td>\n",
       "      <td>-0.238216</td>\n",
       "      <td>-0.250934</td>\n",
       "      <td>-0.127121</td>\n",
       "      <td>-0.191490</td>\n",
       "      <td>-0.039707</td>\n",
       "      <td>-0.029120</td>\n",
       "    </tr>\n",
       "    <tr>\n",
       "      <th>texture</th>\n",
       "      <td>0.052263</td>\n",
       "      <td>0.070735</td>\n",
       "      <td>0.100245</td>\n",
       "      <td>1.000000</td>\n",
       "      <td>-0.113453</td>\n",
       "      <td>-0.113725</td>\n",
       "      <td>0.102321</td>\n",
       "      <td>0.032446</td>\n",
       "      <td>0.077912</td>\n",
       "      <td>0.139157</td>\n",
       "    </tr>\n",
       "    <tr>\n",
       "      <th>perimeter</th>\n",
       "      <td>-0.215953</td>\n",
       "      <td>0.607498</td>\n",
       "      <td>-0.238216</td>\n",
       "      <td>-0.113453</td>\n",
       "      <td>1.000000</td>\n",
       "      <td>0.976648</td>\n",
       "      <td>0.269442</td>\n",
       "      <td>0.527542</td>\n",
       "      <td>0.195539</td>\n",
       "      <td>-0.195434</td>\n",
       "    </tr>\n",
       "    <tr>\n",
       "      <th>area</th>\n",
       "      <td>-0.174354</td>\n",
       "      <td>0.562444</td>\n",
       "      <td>-0.250934</td>\n",
       "      <td>-0.113725</td>\n",
       "      <td>0.976648</td>\n",
       "      <td>1.000000</td>\n",
       "      <td>0.208438</td>\n",
       "      <td>0.424950</td>\n",
       "      <td>0.110435</td>\n",
       "      <td>-0.274344</td>\n",
       "    </tr>\n",
       "    <tr>\n",
       "      <th>smoothness</th>\n",
       "      <td>-0.258328</td>\n",
       "      <td>0.197616</td>\n",
       "      <td>-0.127121</td>\n",
       "      <td>0.102321</td>\n",
       "      <td>0.269442</td>\n",
       "      <td>0.208438</td>\n",
       "      <td>1.000000</td>\n",
       "      <td>0.465723</td>\n",
       "      <td>0.424203</td>\n",
       "      <td>0.369580</td>\n",
       "    </tr>\n",
       "    <tr>\n",
       "      <th>compactness</th>\n",
       "      <td>-0.277554</td>\n",
       "      <td>0.512234</td>\n",
       "      <td>-0.191490</td>\n",
       "      <td>0.032446</td>\n",
       "      <td>0.527542</td>\n",
       "      <td>0.424950</td>\n",
       "      <td>0.465723</td>\n",
       "      <td>1.000000</td>\n",
       "      <td>0.681123</td>\n",
       "      <td>0.647953</td>\n",
       "    </tr>\n",
       "    <tr>\n",
       "      <th>symmetry</th>\n",
       "      <td>-0.222334</td>\n",
       "      <td>0.233028</td>\n",
       "      <td>-0.039707</td>\n",
       "      <td>0.077912</td>\n",
       "      <td>0.195539</td>\n",
       "      <td>0.110435</td>\n",
       "      <td>0.424203</td>\n",
       "      <td>0.681123</td>\n",
       "      <td>1.000000</td>\n",
       "      <td>0.568608</td>\n",
       "    </tr>\n",
       "    <tr>\n",
       "      <th>fractal_dimension</th>\n",
       "      <td>-0.164946</td>\n",
       "      <td>0.008180</td>\n",
       "      <td>-0.029120</td>\n",
       "      <td>0.139157</td>\n",
       "      <td>-0.195434</td>\n",
       "      <td>-0.274344</td>\n",
       "      <td>0.369580</td>\n",
       "      <td>0.647953</td>\n",
       "      <td>0.568608</td>\n",
       "      <td>1.000000</td>\n",
       "    </tr>\n",
       "  </tbody>\n",
       "</table>\n",
       "</div>"
      ],
      "text/plain": [
       "                         id  diagnosis_result    radius   texture  perimeter  \\\n",
       "id                 1.000000         -0.316889  0.047276  0.052263  -0.215953   \n",
       "diagnosis_result  -0.316889          1.000000 -0.176967  0.070735   0.607498   \n",
       "radius             0.047276         -0.176967  1.000000  0.100245  -0.238216   \n",
       "texture            0.052263          0.070735  0.100245  1.000000  -0.113453   \n",
       "perimeter         -0.215953          0.607498 -0.238216 -0.113453   1.000000   \n",
       "area              -0.174354          0.562444 -0.250934 -0.113725   0.976648   \n",
       "smoothness        -0.258328          0.197616 -0.127121  0.102321   0.269442   \n",
       "compactness       -0.277554          0.512234 -0.191490  0.032446   0.527542   \n",
       "symmetry          -0.222334          0.233028 -0.039707  0.077912   0.195539   \n",
       "fractal_dimension -0.164946          0.008180 -0.029120  0.139157  -0.195434   \n",
       "\n",
       "                       area  smoothness  compactness  symmetry  \\\n",
       "id                -0.174354   -0.258328    -0.277554 -0.222334   \n",
       "diagnosis_result   0.562444    0.197616     0.512234  0.233028   \n",
       "radius            -0.250934   -0.127121    -0.191490 -0.039707   \n",
       "texture           -0.113725    0.102321     0.032446  0.077912   \n",
       "perimeter          0.976648    0.269442     0.527542  0.195539   \n",
       "area               1.000000    0.208438     0.424950  0.110435   \n",
       "smoothness         0.208438    1.000000     0.465723  0.424203   \n",
       "compactness        0.424950    0.465723     1.000000  0.681123   \n",
       "symmetry           0.110435    0.424203     0.681123  1.000000   \n",
       "fractal_dimension -0.274344    0.369580     0.647953  0.568608   \n",
       "\n",
       "                   fractal_dimension  \n",
       "id                         -0.164946  \n",
       "diagnosis_result            0.008180  \n",
       "radius                     -0.029120  \n",
       "texture                     0.139157  \n",
       "perimeter                  -0.195434  \n",
       "area                       -0.274344  \n",
       "smoothness                  0.369580  \n",
       "compactness                 0.647953  \n",
       "symmetry                    0.568608  \n",
       "fractal_dimension           1.000000  "
      ]
     },
     "execution_count": 8,
     "metadata": {},
     "output_type": "execute_result"
    }
   ],
   "source": [
    "df.corr()"
   ]
  },
  {
   "cell_type": "markdown",
   "metadata": {},
   "source": [
    "The id, texture, and fractal_dimension shows the lowest effect on the result, so we are droping them."
   ]
  },
  {
   "cell_type": "code",
   "execution_count": 9,
   "metadata": {},
   "outputs": [
    {
     "data": {
      "text/html": [
       "<div>\n",
       "<style scoped>\n",
       "    .dataframe tbody tr th:only-of-type {\n",
       "        vertical-align: middle;\n",
       "    }\n",
       "\n",
       "    .dataframe tbody tr th {\n",
       "        vertical-align: top;\n",
       "    }\n",
       "\n",
       "    .dataframe thead th {\n",
       "        text-align: right;\n",
       "    }\n",
       "</style>\n",
       "<table border=\"1\" class=\"dataframe\">\n",
       "  <thead>\n",
       "    <tr style=\"text-align: right;\">\n",
       "      <th></th>\n",
       "      <th>diagnosis_result</th>\n",
       "      <th>radius</th>\n",
       "      <th>perimeter</th>\n",
       "      <th>area</th>\n",
       "      <th>smoothness</th>\n",
       "      <th>compactness</th>\n",
       "      <th>symmetry</th>\n",
       "    </tr>\n",
       "  </thead>\n",
       "  <tbody>\n",
       "    <tr>\n",
       "      <th>0</th>\n",
       "      <td>1</td>\n",
       "      <td>23</td>\n",
       "      <td>151</td>\n",
       "      <td>954</td>\n",
       "      <td>0.143</td>\n",
       "      <td>0.278</td>\n",
       "      <td>0.242</td>\n",
       "    </tr>\n",
       "    <tr>\n",
       "      <th>1</th>\n",
       "      <td>0</td>\n",
       "      <td>9</td>\n",
       "      <td>133</td>\n",
       "      <td>1326</td>\n",
       "      <td>0.143</td>\n",
       "      <td>0.079</td>\n",
       "      <td>0.181</td>\n",
       "    </tr>\n",
       "    <tr>\n",
       "      <th>2</th>\n",
       "      <td>1</td>\n",
       "      <td>21</td>\n",
       "      <td>130</td>\n",
       "      <td>1203</td>\n",
       "      <td>0.125</td>\n",
       "      <td>0.160</td>\n",
       "      <td>0.207</td>\n",
       "    </tr>\n",
       "    <tr>\n",
       "      <th>3</th>\n",
       "      <td>1</td>\n",
       "      <td>14</td>\n",
       "      <td>78</td>\n",
       "      <td>386</td>\n",
       "      <td>0.070</td>\n",
       "      <td>0.284</td>\n",
       "      <td>0.260</td>\n",
       "    </tr>\n",
       "    <tr>\n",
       "      <th>4</th>\n",
       "      <td>1</td>\n",
       "      <td>9</td>\n",
       "      <td>135</td>\n",
       "      <td>1297</td>\n",
       "      <td>0.141</td>\n",
       "      <td>0.133</td>\n",
       "      <td>0.181</td>\n",
       "    </tr>\n",
       "  </tbody>\n",
       "</table>\n",
       "</div>"
      ],
      "text/plain": [
       "   diagnosis_result  radius  perimeter  area  smoothness  compactness  \\\n",
       "0                 1      23        151   954       0.143        0.278   \n",
       "1                 0       9        133  1326       0.143        0.079   \n",
       "2                 1      21        130  1203       0.125        0.160   \n",
       "3                 1      14         78   386       0.070        0.284   \n",
       "4                 1       9        135  1297       0.141        0.133   \n",
       "\n",
       "   symmetry  \n",
       "0     0.242  \n",
       "1     0.181  \n",
       "2     0.207  \n",
       "3     0.260  \n",
       "4     0.181  "
      ]
     },
     "execution_count": 9,
     "metadata": {},
     "output_type": "execute_result"
    }
   ],
   "source": [
    "df_processed = df.drop([\"id\", \"texture\",\"fractal_dimension\"], axis=1)\n",
    "df_processed.head()"
   ]
  },
  {
   "cell_type": "markdown",
   "metadata": {},
   "source": [
    "## Check for duplicates"
   ]
  },
  {
   "cell_type": "code",
   "execution_count": 10,
   "metadata": {},
   "outputs": [
    {
     "data": {
      "text/plain": [
       "0"
      ]
     },
     "execution_count": 10,
     "metadata": {},
     "output_type": "execute_result"
    }
   ],
   "source": [
    "df_processed.duplicated().sum()"
   ]
  },
  {
   "cell_type": "markdown",
   "metadata": {},
   "source": [
    "No dublicates in the data"
   ]
  },
  {
   "cell_type": "markdown",
   "metadata": {},
   "source": [
    "## Data Distribution"
   ]
  },
  {
   "cell_type": "code",
   "execution_count": 11,
   "metadata": {},
   "outputs": [
    {
     "data": {
      "image/png": "[encoded data removed]",
      "text/plain": [
       "<Figure size 1440x1440 with 9 Axes>"
      ]
     },
     "metadata": {
      "needs_background": "light"
     },
     "output_type": "display_data"
    }
   ],
   "source": [
    "df_processed.hist(figsize = (20,20))\n",
    "\n",
    "plt.show()"
   ]
  },
  {
   "cell_type": "markdown",
   "metadata": {},
   "source": [
    "## Outliers"
   ]
  },
  {
   "cell_type": "code",
   "execution_count": 12,
   "metadata": {},
   "outputs": [
    {
     "data": {
      "image/png": "[encoded data removed]",
      "text/plain": [
       "<Figure size 1440x1080 with 6 Axes>"
      ]
     },
     "metadata": {
      "needs_background": "light"
     },
     "output_type": "display_data"
    }
   ],
   "source": [
    "features = [\"radius\" , \"perimeter\" , \"area\" , \"smoothness\" , \"compactness\", \"symmetry\" ]\n",
    "\n",
    "plt.figure(figsize= (20,15))\n",
    "\n",
    "for i in range(len(features)):\n",
    "  \n",
    "    plt.subplot(len(features),1,i+1)\n",
    "    sns.boxplot(x= df_processed[features[i]], color='lightblue')\n",
    "    plt.tight_layout()\n",
    "    \n",
    "plt.show()"
   ]
  },
  {
   "cell_type": "markdown",
   "metadata": {},
   "source": [
    "We can see that there are some outliers in all the feauters except \"radius\" ."
   ]
  },
  {
   "cell_type": "markdown",
   "metadata": {},
   "source": [
    "#### Removing outliers"
   ]
  },
  {
   "cell_type": "code",
   "execution_count": 13,
   "metadata": {},
   "outputs": [],
   "source": [
    "columns_to_test = [\"perimeter\" , \"area\" , \"smoothness\" , \"compactness\", \"symmetry\" ]\n",
    "\n",
    "for i in columns_to_test:\n",
    "    Q3 = df_processed[i].quantile(.75)\n",
    "    Q1 = df_processed[i].quantile(.25)\n",
    "    IQR = Q3 - Q1\n",
    "\n",
    "    upper_whisker = Q3 + 1.5 * IQR\n",
    "    lower_whisker = Q1 - 1.5 * IQR\n",
    "\n",
    "    upper_values = df_processed[i] >  upper_whisker\n",
    "    lower_values = df_processed[i] <  lower_whisker\n",
    "\n",
    "    df_processed.loc[upper_values, i] = upper_whisker\n",
    "    df_processed.loc[lower_values, i] = lower_whisker"
   ]
  },
  {
   "cell_type": "code",
   "execution_count": 14,
   "metadata": {},
   "outputs": [
    {
     "data": {
      "image/png": "[encoded data removed]",
      "text/plain": [
       "<Figure size 1440x1080 with 6 Axes>"
      ]
     },
     "metadata": {
      "needs_background": "light"
     },
     "output_type": "display_data"
    }
   ],
   "source": [
    "features = [\"radius\" , \"perimeter\" , \"area\" , \"smoothness\" , \"compactness\", \"symmetry\" ]\n",
    "\n",
    "plt.figure(figsize= (20,15))\n",
    "\n",
    "for i in range(len(features)):\n",
    "  \n",
    "    plt.subplot(len(features),1,i+1)\n",
    "    sns.boxplot(x= df_processed[features[i]], color='lightblue')\n",
    "    plt.tight_layout()\n",
    "    \n",
    "plt.show()"
   ]
  },
  {
   "cell_type": "markdown",
   "metadata": {},
   "source": [
    "## Standardization"
   ]
  },
  {
   "cell_type": "markdown",
   "metadata": {},
   "source": [
    "Standardize the data for better performance and faster convergance."
   ]
  },
  {
   "cell_type": "code",
   "execution_count": 15,
   "metadata": {},
   "outputs": [],
   "source": [
    "def standardize_features(X):\n",
    "    means = np.mean(X, axis=0)\n",
    "    stds = np.std(X, axis=0)\n",
    "    standardized_X = (X - means) / stds\n",
    "    return standardized_X\n"
   ]
  },
  {
   "cell_type": "code",
   "execution_count": 16,
   "metadata": {},
   "outputs": [
    {
     "data": {
      "text/html": [
       "<div>\n",
       "<style scoped>\n",
       "    .dataframe tbody tr th:only-of-type {\n",
       "        vertical-align: middle;\n",
       "    }\n",
       "\n",
       "    .dataframe tbody tr th {\n",
       "        vertical-align: top;\n",
       "    }\n",
       "\n",
       "    .dataframe thead th {\n",
       "        text-align: right;\n",
       "    }\n",
       "</style>\n",
       "<table border=\"1\" class=\"dataframe\">\n",
       "  <thead>\n",
       "    <tr style=\"text-align: right;\">\n",
       "      <th></th>\n",
       "      <th>diagnosis_result</th>\n",
       "      <th>radius</th>\n",
       "      <th>perimeter</th>\n",
       "      <th>area</th>\n",
       "      <th>smoothness</th>\n",
       "      <th>compactness</th>\n",
       "      <th>symmetry</th>\n",
       "    </tr>\n",
       "  </thead>\n",
       "  <tbody>\n",
       "    <tr>\n",
       "      <th>0</th>\n",
       "      <td>1</td>\n",
       "      <td>1.266830</td>\n",
       "      <td>2.336026</td>\n",
       "      <td>0.824398</td>\n",
       "      <td>2.583037</td>\n",
       "      <td>2.511239</td>\n",
       "      <td>1.746086</td>\n",
       "    </tr>\n",
       "    <tr>\n",
       "      <th>1</th>\n",
       "      <td>0</td>\n",
       "      <td>-1.617011</td>\n",
       "      <td>1.561956</td>\n",
       "      <td>2.031184</td>\n",
       "      <td>2.583037</td>\n",
       "      <td>-0.804851</td>\n",
       "      <td>-0.401968</td>\n",
       "    </tr>\n",
       "    <tr>\n",
       "      <th>2</th>\n",
       "      <td>1</td>\n",
       "      <td>0.854853</td>\n",
       "      <td>1.432944</td>\n",
       "      <td>1.632166</td>\n",
       "      <td>1.556019</td>\n",
       "      <td>0.588681</td>\n",
       "      <td>0.513596</td>\n",
       "    </tr>\n",
       "    <tr>\n",
       "      <th>3</th>\n",
       "      <td>1</td>\n",
       "      <td>-0.587068</td>\n",
       "      <td>-0.803259</td>\n",
       "      <td>-1.018222</td>\n",
       "      <td>-2.273539</td>\n",
       "      <td>2.511239</td>\n",
       "      <td>2.379938</td>\n",
       "    </tr>\n",
       "    <tr>\n",
       "      <th>4</th>\n",
       "      <td>1</td>\n",
       "      <td>-1.617011</td>\n",
       "      <td>1.647964</td>\n",
       "      <td>1.937107</td>\n",
       "      <td>2.583037</td>\n",
       "      <td>0.124171</td>\n",
       "      <td>-0.401968</td>\n",
       "    </tr>\n",
       "  </tbody>\n",
       "</table>\n",
       "</div>"
      ],
      "text/plain": [
       "   diagnosis_result    radius  perimeter      area  smoothness  compactness  \\\n",
       "0                 1  1.266830   2.336026  0.824398    2.583037     2.511239   \n",
       "1                 0 -1.617011   1.561956  2.031184    2.583037    -0.804851   \n",
       "2                 1  0.854853   1.432944  1.632166    1.556019     0.588681   \n",
       "3                 1 -0.587068  -0.803259 -1.018222   -2.273539     2.511239   \n",
       "4                 1 -1.617011   1.647964  1.937107    2.583037     0.124171   \n",
       "\n",
       "   symmetry  \n",
       "0  1.746086  \n",
       "1 -0.401968  \n",
       "2  0.513596  \n",
       "3  2.379938  \n",
       "4 -0.401968  "
      ]
     },
     "execution_count": 16,
     "metadata": {},
     "output_type": "execute_result"
    }
   ],
   "source": [
    "\n",
    "for i in range(len(features)):\n",
    "    df_processed[features[i]] = standardize_features(df_processed[features[i]])\n",
    "\n",
    "df_processed.head()\n"
   ]
  },
  {
   "cell_type": "markdown",
   "metadata": {},
   "source": [
    "# Models"
   ]
  },
  {
   "cell_type": "markdown",
   "metadata": {},
   "source": [
    "- Implementing KNN and RNN models from.\n",
    "- Adding callable functions of sklearn and scratch models, its purpose is to fit the model, predict values, and calculate the accuracy. These function prevent code repetition and make it easier to access the model."
   ]
  },
  {
   "cell_type": "markdown",
   "metadata": {},
   "source": [
    "## KNN"
   ]
  },
  {
   "cell_type": "markdown",
   "metadata": {},
   "source": [
    "### 1. Sklearn"
   ]
  },
  {
   "cell_type": "code",
   "execution_count": 17,
   "metadata": {},
   "outputs": [],
   "source": [
    "def knn_sklearn(X_train, y_train, X_test, y_test, n_neighbors):\n",
    "    clf = KNeighborsClassifier(n_neighbors = n_neighbors)\n",
    "    clf.fit(X_train, y_train)\n",
    "    pred = clf.predict(X_test)\n",
    "    accuracy = accuracy_score(y_test, pred)\n",
    "    return pred,accuracy"
   ]
  },
  {
   "cell_type": "markdown",
   "metadata": {},
   "source": [
    "### 2. From scratch"
   ]
  },
  {
   "cell_type": "code",
   "execution_count": 18,
   "metadata": {},
   "outputs": [],
   "source": [
    "class kNN():\n",
    "    '''k-Nearest Neighbours'''\n",
    "    # Initialise\n",
    "    def __init__(self, k=3):\n",
    "        self.k = k\n",
    "    \n",
    "    # Euclidean distance (l2 norm)\n",
    "    def euclidean(self, v1, v2):\n",
    "        try:\n",
    "            result = np.sqrt(np.sum((v1 - v2) ** 2))\n",
    "            return result\n",
    "        except TypeError as e:\n",
    "            print(\"Error in euclidean function:\")\n",
    "            print(f\"v1: {v1}\")\n",
    "            print(f\"v2: {v2}\")\n",
    "            raise e\n",
    "    \n",
    "       \n",
    "    # Store train set\n",
    "    def fit(self, X_train, y_train):\n",
    "        self.X_train = X_train\n",
    "        self.y_train = y_train\n",
    "        \n",
    "    # Make predictions\n",
    "    def predict(self, X_test):\n",
    "        preds = []\n",
    "        # Loop over rows in test set\n",
    "        for test_row in X_test:\n",
    "            nearest_neighbours = self.get_neighbours(test_row)\n",
    "            majority = stats.mode(nearest_neighbours)[0][0]\n",
    "            preds.append(majority)\n",
    "        return np.array(preds)\n",
    "    \n",
    "    # Get nearest neighbours\n",
    "    def get_neighbours(self, test_row):\n",
    "        distances = list()\n",
    "        \n",
    "        # Calculate distance to all points in X_train\n",
    "        for (train_row, train_class) in zip(self.X_train, self.y_train):\n",
    "                dist = self.euclidean(train_row, test_row)\n",
    "                distances.append((dist, train_class))\n",
    "            \n",
    "        # Sort distances\n",
    "        distances.sort(key=lambda x: x[0])\n",
    "        \n",
    "        # Identify k nearest neighbours\n",
    "        neighbours = list()\n",
    "        for i in range(self.k):\n",
    "            neighbours.append(distances[i][1])\n",
    "            \n",
    "        return neighbours\n",
    "    \n",
    "    def accuracy(self,preds, y_test):\n",
    "        return 100 * (preds == y_test).mean()"
   ]
  },
  {
   "cell_type": "code",
   "execution_count": 19,
   "metadata": {},
   "outputs": [],
   "source": [
    "def knn_scratch(X_train, y_train, X_test, y_test, n_neighbors):\n",
    "    \n",
    "    clf = kNN(k = n_neighbors)\n",
    "    clf.fit(X_train.values, y_train.values)\n",
    "    pred = clf.predict(X_test.values)\n",
    "    accuracy = clf.accuracy(pred , y_test)\n",
    "    return pred, accuracy"
   ]
  },
  {
   "cell_type": "markdown",
   "metadata": {},
   "source": [
    "## RNN"
   ]
  },
  {
   "cell_type": "markdown",
   "metadata": {},
   "source": [
    "### 1. Sklearn"
   ]
  },
  {
   "cell_type": "code",
   "execution_count": 20,
   "metadata": {},
   "outputs": [],
   "source": [
    "def rnn_sklearn(X_train, y_train, X_test, y_test, radius):\n",
    "    clf = RadiusNeighborsClassifier(radius=radius)\n",
    "    clf.fit(X_train, y_train)\n",
    "    pred = clf.predict(X_test)\n",
    "    accuracy = accuracy_score(y_test, pred)\n",
    "    return pred, accuracy"
   ]
  },
  {
   "cell_type": "markdown",
   "metadata": {},
   "source": [
    "### 2. From Scratch"
   ]
  },
  {
   "cell_type": "code",
   "execution_count": 21,
   "metadata": {},
   "outputs": [],
   "source": [
    "class RadiusNN():\n",
    "    '''Radius Nearest Neighbours'''\n",
    "    # Initialise\n",
    "    def __init__(self, radius=1.0):\n",
    "        self.radius = radius\n",
    "\n",
    "    # Euclidean distance (l2 norm)\n",
    "    def euclidean(self, v1, v2):\n",
    "        return np.sqrt(np.sum((v1 - v2) ** 2))\n",
    "    \n",
    "    # Store train set\n",
    "    def fit(self, X_train, y_train):\n",
    "        self.X_train = X_train\n",
    "        self.y_train = y_train\n",
    "    \n",
    "    # Make predictions\n",
    "    def predict(self, X_test):\n",
    "        preds = []\n",
    "        # Loop over rows in the test set\n",
    "        for test_row in X_test:\n",
    "            neighbours = self.get_neighbours(test_row)\n",
    "            if not neighbours:\n",
    "                # If no neighbors are found within the radius, assign a default value or handle it accordingly\n",
    "                preds.append(None)\n",
    "            else:\n",
    "                # Use majority voting or another method to determine the predicted class\n",
    "                majority = stats.mode(neighbours)[0][0]\n",
    "                preds.append(majority)\n",
    "        return np.array(preds)\n",
    "    \n",
    "    # Get nearest neighbors within the specified radius\n",
    "    def get_neighbours(self, test_row):\n",
    "        neighbours = []\n",
    "        \n",
    "        # Calculate distance to all points in X_train\n",
    "        for (train_row, train_class) in zip(self.X_train, self.y_train):\n",
    "            dist = self.euclidean(train_row, test_row)\n",
    "            if dist <= self.radius:\n",
    "                neighbours.append(train_class)\n",
    "            \n",
    "        return neighbours\n",
    "    \n",
    "    def accuracy(self,preds, y_test):\n",
    "        return 100 * (preds == y_test).mean()"
   ]
  },
  {
   "cell_type": "code",
   "execution_count": 22,
   "metadata": {},
   "outputs": [],
   "source": [
    "def rnn_scratch(X_train, y_train, X_test, y_test, radius):\n",
    "    clf = RadiusNN(radius=radius)\n",
    "    clf.fit(X_train.values, y_train.values)\n",
    "    pred = clf.predict(X_test.values)\n",
    "    accuracy = clf.accuracy(y_test, pred)\n",
    "    return pred,accuracy"
   ]
  },
  {
   "cell_type": "markdown",
   "metadata": {},
   "source": [
    "# Confusion Matrix Plotting"
   ]
  },
  {
   "cell_type": "code",
   "execution_count": 23,
   "metadata": {},
   "outputs": [],
   "source": [
    "def plot_conf_matrix(matrix):\n",
    "    f, ax = plt.subplots(figsize=(5,5))\n",
    "    sns.heatmap(matrix, annot=True, linewidth=0.7, linecolor='red', fmt='g', ax=ax, cmap=\"BuPu\")\n",
    "    plt.show()"
   ]
  },
  {
   "cell_type": "markdown",
   "metadata": {},
   "source": [
    "# Accuracy and Confusion Matrix using Original Dataframe"
   ]
  },
  {
   "cell_type": "code",
   "execution_count": 24,
   "metadata": {},
   "outputs": [],
   "source": [
    "# droping patient id column\n",
    "\n",
    "df = df.drop(['id'],axis =1 )"
   ]
  },
  {
   "cell_type": "code",
   "execution_count": 25,
   "metadata": {},
   "outputs": [
    {
     "data": {
      "text/html": [
       "<div>\n",
       "<style scoped>\n",
       "    .dataframe tbody tr th:only-of-type {\n",
       "        vertical-align: middle;\n",
       "    }\n",
       "\n",
       "    .dataframe tbody tr th {\n",
       "        vertical-align: top;\n",
       "    }\n",
       "\n",
       "    .dataframe thead th {\n",
       "        text-align: right;\n",
       "    }\n",
       "</style>\n",
       "<table border=\"1\" class=\"dataframe\">\n",
       "  <thead>\n",
       "    <tr style=\"text-align: right;\">\n",
       "      <th></th>\n",
       "      <th>radius</th>\n",
       "      <th>texture</th>\n",
       "      <th>perimeter</th>\n",
       "      <th>area</th>\n",
       "      <th>smoothness</th>\n",
       "      <th>compactness</th>\n",
       "      <th>symmetry</th>\n",
       "      <th>fractal_dimension</th>\n",
       "    </tr>\n",
       "  </thead>\n",
       "  <tbody>\n",
       "    <tr>\n",
       "      <th>0</th>\n",
       "      <td>23</td>\n",
       "      <td>12</td>\n",
       "      <td>151</td>\n",
       "      <td>954</td>\n",
       "      <td>0.143</td>\n",
       "      <td>0.278</td>\n",
       "      <td>0.242</td>\n",
       "      <td>0.079</td>\n",
       "    </tr>\n",
       "    <tr>\n",
       "      <th>1</th>\n",
       "      <td>9</td>\n",
       "      <td>13</td>\n",
       "      <td>133</td>\n",
       "      <td>1326</td>\n",
       "      <td>0.143</td>\n",
       "      <td>0.079</td>\n",
       "      <td>0.181</td>\n",
       "      <td>0.057</td>\n",
       "    </tr>\n",
       "    <tr>\n",
       "      <th>2</th>\n",
       "      <td>21</td>\n",
       "      <td>27</td>\n",
       "      <td>130</td>\n",
       "      <td>1203</td>\n",
       "      <td>0.125</td>\n",
       "      <td>0.160</td>\n",
       "      <td>0.207</td>\n",
       "      <td>0.060</td>\n",
       "    </tr>\n",
       "    <tr>\n",
       "      <th>3</th>\n",
       "      <td>14</td>\n",
       "      <td>16</td>\n",
       "      <td>78</td>\n",
       "      <td>386</td>\n",
       "      <td>0.070</td>\n",
       "      <td>0.284</td>\n",
       "      <td>0.260</td>\n",
       "      <td>0.097</td>\n",
       "    </tr>\n",
       "    <tr>\n",
       "      <th>4</th>\n",
       "      <td>9</td>\n",
       "      <td>19</td>\n",
       "      <td>135</td>\n",
       "      <td>1297</td>\n",
       "      <td>0.141</td>\n",
       "      <td>0.133</td>\n",
       "      <td>0.181</td>\n",
       "      <td>0.059</td>\n",
       "    </tr>\n",
       "  </tbody>\n",
       "</table>\n",
       "</div>"
      ],
      "text/plain": [
       "   radius  texture  perimeter  area  smoothness  compactness  symmetry  \\\n",
       "0      23       12        151   954       0.143        0.278     0.242   \n",
       "1       9       13        133  1326       0.143        0.079     0.181   \n",
       "2      21       27        130  1203       0.125        0.160     0.207   \n",
       "3      14       16         78   386       0.070        0.284     0.260   \n",
       "4       9       19        135  1297       0.141        0.133     0.181   \n",
       "\n",
       "   fractal_dimension  \n",
       "0              0.079  \n",
       "1              0.057  \n",
       "2              0.060  \n",
       "3              0.097  \n",
       "4              0.059  "
      ]
     },
     "execution_count": 25,
     "metadata": {},
     "output_type": "execute_result"
    }
   ],
   "source": [
    "X1 = df.drop(\"diagnosis_result\", axis=1)\n",
    "\n",
    "X1.head()"
   ]
  },
  {
   "cell_type": "code",
   "execution_count": 26,
   "metadata": {},
   "outputs": [
    {
     "data": {
      "text/plain": [
       "0    1\n",
       "1    0\n",
       "2    1\n",
       "3    1\n",
       "4    1\n",
       "Name: diagnosis_result, dtype: int64"
      ]
     },
     "execution_count": 26,
     "metadata": {},
     "output_type": "execute_result"
    }
   ],
   "source": [
    "y1 = df['diagnosis_result']\n",
    "\n",
    "y1.head()"
   ]
  },
  {
   "cell_type": "code",
   "execution_count": 27,
   "metadata": {},
   "outputs": [],
   "source": [
    "X_train1, X_test1, y_train1, y_test1 = train_test_split(X1, y1, test_size= 0.2, random_state=42)"
   ]
  },
  {
   "cell_type": "markdown",
   "metadata": {},
   "source": [
    "## KNN"
   ]
  },
  {
   "cell_type": "markdown",
   "metadata": {},
   "source": [
    "### 1. Sklearn"
   ]
  },
  {
   "cell_type": "code",
   "execution_count": 28,
   "metadata": {},
   "outputs": [
    {
     "name": "stdout",
     "output_type": "stream",
     "text": [
      "5 neighbors sklearn model accuracy:  75.0\n",
      "5 neighbors sklearn model confusion matrix:  [[ 2  2]\n",
      " [ 3 13]]\n"
     ]
    },
    {
     "data": {
      "image/png": "[encoded data removed]",
      "text/plain": [
       "<Figure size 360x360 with 2 Axes>"
      ]
     },
     "metadata": {
      "needs_background": "light"
     },
     "output_type": "display_data"
    },
    {
     "name": "stdout",
     "output_type": "stream",
     "text": [
      "9 neighbors sklearn model accuracy:  70.0\n",
      "9 neighbors sklearn model confusion matrix:  [[ 2  2]\n",
      " [ 4 12]]\n"
     ]
    },
    {
     "data": {
      "image/png": "[encoded data removed]",
      "text/plain": [
       "<Figure size 360x360 with 2 Axes>"
      ]
     },
     "metadata": {
      "needs_background": "light"
     },
     "output_type": "display_data"
    }
   ],
   "source": [
    "# using 5 neighbors\n",
    "\n",
    "predictions_5_sklearn1 , accuracy_knn_5_sklearn1 = knn_sklearn(X_train1, y_train1, X_test1, y_test1,5)\n",
    "\n",
    "conf_matrix_knn_5_sklearn1 = confusion_matrix(y_test1, predictions_5_sklearn1)\n",
    "\n",
    "print(\"5 neighbors sklearn model accuracy: \", accuracy_knn_5_sklearn1 * 100)\n",
    "\n",
    "print(\"5 neighbors sklearn model confusion matrix: \",conf_matrix_knn_5_sklearn1)\n",
    "\n",
    "plot_conf_matrix(conf_matrix_knn_5_sklearn1)\n",
    "\n",
    "#______________________________________________________________#\n",
    "\n",
    "# using 9 neighbors\n",
    "\n",
    "predictions_9_sklearn1 ,accuracy_knn_9_sklearn1 = knn_sklearn(X_train1, y_train1, X_test1, y_test1,9)\n",
    "\n",
    "conf_matrix_knn_9_sklearn1 = confusion_matrix(y_test1, predictions_9_sklearn1)\n",
    "\n",
    "print(\"9 neighbors sklearn model accuracy: \", accuracy_knn_9_sklearn1 * 100)\n",
    "\n",
    "print(\"9 neighbors sklearn model confusion matrix: \",conf_matrix_knn_9_sklearn1)\n",
    "\n",
    "plot_conf_matrix(conf_matrix_knn_9_sklearn1)\n"
   ]
  },
  {
   "cell_type": "markdown",
   "metadata": {},
   "source": [
    "### 2. From scratch"
   ]
  },
  {
   "cell_type": "code",
   "execution_count": 29,
   "metadata": {},
   "outputs": [
    {
     "name": "stdout",
     "output_type": "stream",
     "text": [
      "5 neighbors from scratch model accuracy:  75.0\n",
      "5 neighbors from scratch model confusion matrix:  [[ 2  2]\n",
      " [ 3 13]]\n"
     ]
    },
    {
     "name": "stderr",
     "output_type": "stream",
     "text": [
      "C:\\Users\\MAI\\AppData\\Local\\Temp\\ipykernel_15600\\4114452165.py:30: FutureWarning: Unlike other reduction functions (e.g. `skew`, `kurtosis`), the default behavior of `mode` typically preserves the axis it acts along. In SciPy 1.11.0, this behavior will change: the default value of `keepdims` will become False, the `axis` over which the statistic is taken will be eliminated, and the value None will no longer be accepted. Set `keepdims` to True or False to avoid this warning.\n",
      "  majority = stats.mode(nearest_neighbours)[0][0]\n"
     ]
    },
    {
     "data": {
      "image/png": "[encoded data removed]",
      "text/plain": [
       "<Figure size 360x360 with 2 Axes>"
      ]
     },
     "metadata": {
      "needs_background": "light"
     },
     "output_type": "display_data"
    },
    {
     "name": "stderr",
     "output_type": "stream",
     "text": [
      "C:\\Users\\MAI\\AppData\\Local\\Temp\\ipykernel_15600\\4114452165.py:30: FutureWarning: Unlike other reduction functions (e.g. `skew`, `kurtosis`), the default behavior of `mode` typically preserves the axis it acts along. In SciPy 1.11.0, this behavior will change: the default value of `keepdims` will become False, the `axis` over which the statistic is taken will be eliminated, and the value None will no longer be accepted. Set `keepdims` to True or False to avoid this warning.\n",
      "  majority = stats.mode(nearest_neighbours)[0][0]\n"
     ]
    },
    {
     "name": "stdout",
     "output_type": "stream",
     "text": [
      "9 neighbors from scratch model accuracy:  70.0\n",
      "9 neighbors from scratch model confusion matrix:  [[ 2  2]\n",
      " [ 4 12]]\n"
     ]
    },
    {
     "data": {
      "image/png": "[encoded data removed]",
      "text/plain": [
       "<Figure size 360x360 with 2 Axes>"
      ]
     },
     "metadata": {
      "needs_background": "light"
     },
     "output_type": "display_data"
    }
   ],
   "source": [
    "# using 5 neighbors\n",
    "\n",
    "predictions_5_scratch1 , accuracy_knn_5_scratch1 = knn_scratch(X_train1, y_train1, X_test1, y_test1,5)\n",
    "\n",
    "conf_matrix_knn_5_scratch1 = confusion_matrix(y_test1, predictions_5_scratch1)\n",
    "\n",
    "print(\"5 neighbors from scratch model accuracy: \", accuracy_knn_5_scratch1)\n",
    "\n",
    "print(\"5 neighbors from scratch model confusion matrix: \",conf_matrix_knn_5_scratch1)\n",
    "\n",
    "plot_conf_matrix(conf_matrix_knn_5_scratch1)\n",
    "\n",
    "#_______________________________________________________#\n",
    "\n",
    "# using 9 neighbors\n",
    "\n",
    "predictions_9_scratch1 , accuracy_knn_9_scratch1 = knn_scratch(X_train1, y_train1, X_test1, y_test1,9)\n",
    "\n",
    "conf_matrix_knn_9_scratch1 = confusion_matrix(y_test1, predictions_9_scratch1)\n",
    "\n",
    "print(\"9 neighbors from scratch model accuracy: \", accuracy_knn_9_scratch1)\n",
    "\n",
    "print(\"9 neighbors from scratch model confusion matrix: \",conf_matrix_knn_9_scratch1)\n",
    "\n",
    "plot_conf_matrix(conf_matrix_knn_9_scratch1)\n",
    "\n"
   ]
  },
  {
   "cell_type": "markdown",
   "metadata": {},
   "source": [
    "## RNN"
   ]
  },
  {
   "cell_type": "markdown",
   "metadata": {},
   "source": [
    "### 1. Sklearn"
   ]
  },
  {
   "cell_type": "code",
   "execution_count": 30,
   "metadata": {},
   "outputs": [
    {
     "name": "stdout",
     "output_type": "stream",
     "text": [
      "radius 40 sklearn model accuracy:  65.0\n",
      "radius 40 sklearn model confusion matrix:  [[ 2  2]\n",
      " [ 5 11]]\n"
     ]
    },
    {
     "data": {
      "image/png": "[encoded data removed]",
      "text/plain": [
       "<Figure size 360x360 with 2 Axes>"
      ]
     },
     "metadata": {
      "needs_background": "light"
     },
     "output_type": "display_data"
    },
    {
     "name": "stdout",
     "output_type": "stream",
     "text": [
      "radius 400 sklearn model accuracy:  80.0\n",
      "radius 400 sklearn model confusion matrix:  [[ 1  3]\n",
      " [ 1 15]]\n"
     ]
    },
    {
     "data": {
      "image/png": "[encoded data removed]",
      "text/plain": [
       "<Figure size 360x360 with 2 Axes>"
      ]
     },
     "metadata": {
      "needs_background": "light"
     },
     "output_type": "display_data"
    }
   ],
   "source": [
    "# using radius 40\n",
    "\n",
    "predictions_rnn_40_sklearn1 , accuracy_rnn_40_sklearn1 = rnn_sklearn(X_train1, y_train1, X_test1, y_test1,40.0)\n",
    "\n",
    "conf_matrix_rnn_40_sklearn1 = confusion_matrix(y_test1, predictions_rnn_40_sklearn1)\n",
    "\n",
    "print(\"radius 40 sklearn model accuracy: \", accuracy_rnn_40_sklearn1 * 100)\n",
    "\n",
    "print(\"radius 40 sklearn model confusion matrix: \",conf_matrix_rnn_40_sklearn1)\n",
    "\n",
    "plot_conf_matrix(conf_matrix_rnn_40_sklearn1)\n",
    "\n",
    "#______________________________________________________________#\n",
    "\n",
    "# using radius 400\n",
    "\n",
    "predictions_rnn_400_sklearn1 ,accuracy_rnn_400_sklearn1 = rnn_sklearn(X_train1, y_train1, X_test1, y_test1,400.0)\n",
    "\n",
    "conf_matrix_rnn_400_sklearn1 = confusion_matrix(y_test1, predictions_rnn_400_sklearn1)\n",
    "\n",
    "print(\"radius 400 sklearn model accuracy: \", accuracy_rnn_400_sklearn1 * 100)\n",
    "\n",
    "print(\"radius 400 sklearn model confusion matrix: \",conf_matrix_rnn_400_sklearn1)\n",
    "\n",
    "plot_conf_matrix(conf_matrix_rnn_400_sklearn1)\n"
   ]
  },
  {
   "cell_type": "markdown",
   "metadata": {},
   "source": [
    "### 2. From Scratch"
   ]
  },
  {
   "cell_type": "code",
   "execution_count": 31,
   "metadata": {},
   "outputs": [
    {
     "name": "stdout",
     "output_type": "stream",
     "text": [
      "radius 40 from scratch model accuracy:  65.0\n",
      "radius 40 from scratch model confusion matrix:  [[ 2  2]\n",
      " [ 5 11]]\n"
     ]
    },
    {
     "name": "stderr",
     "output_type": "stream",
     "text": [
      "C:\\Users\\MAI\\AppData\\Local\\Temp\\ipykernel_15600\\3840006426.py:27: FutureWarning: Unlike other reduction functions (e.g. `skew`, `kurtosis`), the default behavior of `mode` typically preserves the axis it acts along. In SciPy 1.11.0, this behavior will change: the default value of `keepdims` will become False, the `axis` over which the statistic is taken will be eliminated, and the value None will no longer be accepted. Set `keepdims` to True or False to avoid this warning.\n",
      "  majority = stats.mode(neighbours)[0][0]\n"
     ]
    },
    {
     "data": {
      "image/png": "[encoded data removed]",
      "text/plain": [
       "<Figure size 360x360 with 2 Axes>"
      ]
     },
     "metadata": {
      "needs_background": "light"
     },
     "output_type": "display_data"
    },
    {
     "name": "stderr",
     "output_type": "stream",
     "text": [
      "C:\\Users\\MAI\\AppData\\Local\\Temp\\ipykernel_15600\\3840006426.py:27: FutureWarning: Unlike other reduction functions (e.g. `skew`, `kurtosis`), the default behavior of `mode` typically preserves the axis it acts along. In SciPy 1.11.0, this behavior will change: the default value of `keepdims` will become False, the `axis` over which the statistic is taken will be eliminated, and the value None will no longer be accepted. Set `keepdims` to True or False to avoid this warning.\n",
      "  majority = stats.mode(neighbours)[0][0]\n"
     ]
    },
    {
     "name": "stdout",
     "output_type": "stream",
     "text": [
      "radius 400 from scratch model accuracy:  80.0\n",
      "radius 400 from scratch model confusion matrix:  [[ 1  3]\n",
      " [ 1 15]]\n"
     ]
    },
    {
     "data": {
      "image/png": "[encoded data removed]",
      "text/plain": [
       "<Figure size 360x360 with 2 Axes>"
      ]
     },
     "metadata": {
      "needs_background": "light"
     },
     "output_type": "display_data"
    }
   ],
   "source": [
    "# using radius 40\n",
    "\n",
    "predictions_rnn_40_scratch1 , accuracy_rnn_40_scratch1 = rnn_scratch(X_train1, y_train1, X_test1, y_test1,40.0)\n",
    "\n",
    "conf_matrix_rnn_40_scratch1 = confusion_matrix(y_test1, predictions_rnn_40_scratch1)\n",
    "\n",
    "print(\"radius 40 from scratch model accuracy: \", accuracy_rnn_40_scratch1)\n",
    "\n",
    "print(\"radius 40 from scratch model confusion matrix: \",conf_matrix_rnn_40_scratch1)\n",
    "\n",
    "plot_conf_matrix(conf_matrix_rnn_40_scratch1)\n",
    "\n",
    "#______________________________________________________________#\n",
    "\n",
    "# using radius 400\n",
    "\n",
    "predictions_rnn_400_scratch1 ,accuracy_rnn_400_scratch1 = rnn_scratch(X_train1, y_train1, X_test1, y_test1,400.0)\n",
    "\n",
    "conf_matrix_rnn_400_scratch1 = confusion_matrix(y_test1, predictions_rnn_400_scratch1)\n",
    "\n",
    "print(\"radius 400 from scratch model accuracy: \", accuracy_rnn_400_scratch1)\n",
    "\n",
    "print(\"radius 400 from scratch model confusion matrix: \",conf_matrix_rnn_400_scratch1)\n",
    "\n",
    "plot_conf_matrix(conf_matrix_rnn_400_scratch1)\n"
   ]
  },
  {
   "cell_type": "markdown",
   "metadata": {},
   "source": [
    "# Accuracy and Confusion Matrix Using Proccessed Dataframe"
   ]
  },
  {
   "cell_type": "code",
   "execution_count": 32,
   "metadata": {},
   "outputs": [
    {
     "data": {
      "text/html": [
       "<div>\n",
       "<style scoped>\n",
       "    .dataframe tbody tr th:only-of-type {\n",
       "        vertical-align: middle;\n",
       "    }\n",
       "\n",
       "    .dataframe tbody tr th {\n",
       "        vertical-align: top;\n",
       "    }\n",
       "\n",
       "    .dataframe thead th {\n",
       "        text-align: right;\n",
       "    }\n",
       "</style>\n",
       "<table border=\"1\" class=\"dataframe\">\n",
       "  <thead>\n",
       "    <tr style=\"text-align: right;\">\n",
       "      <th></th>\n",
       "      <th>radius</th>\n",
       "      <th>perimeter</th>\n",
       "      <th>area</th>\n",
       "      <th>smoothness</th>\n",
       "      <th>compactness</th>\n",
       "      <th>symmetry</th>\n",
       "    </tr>\n",
       "  </thead>\n",
       "  <tbody>\n",
       "    <tr>\n",
       "      <th>0</th>\n",
       "      <td>1.266830</td>\n",
       "      <td>2.336026</td>\n",
       "      <td>0.824398</td>\n",
       "      <td>2.583037</td>\n",
       "      <td>2.511239</td>\n",
       "      <td>1.746086</td>\n",
       "    </tr>\n",
       "    <tr>\n",
       "      <th>1</th>\n",
       "      <td>-1.617011</td>\n",
       "      <td>1.561956</td>\n",
       "      <td>2.031184</td>\n",
       "      <td>2.583037</td>\n",
       "      <td>-0.804851</td>\n",
       "      <td>-0.401968</td>\n",
       "    </tr>\n",
       "    <tr>\n",
       "      <th>2</th>\n",
       "      <td>0.854853</td>\n",
       "      <td>1.432944</td>\n",
       "      <td>1.632166</td>\n",
       "      <td>1.556019</td>\n",
       "      <td>0.588681</td>\n",
       "      <td>0.513596</td>\n",
       "    </tr>\n",
       "    <tr>\n",
       "      <th>3</th>\n",
       "      <td>-0.587068</td>\n",
       "      <td>-0.803259</td>\n",
       "      <td>-1.018222</td>\n",
       "      <td>-2.273539</td>\n",
       "      <td>2.511239</td>\n",
       "      <td>2.379938</td>\n",
       "    </tr>\n",
       "    <tr>\n",
       "      <th>4</th>\n",
       "      <td>-1.617011</td>\n",
       "      <td>1.647964</td>\n",
       "      <td>1.937107</td>\n",
       "      <td>2.583037</td>\n",
       "      <td>0.124171</td>\n",
       "      <td>-0.401968</td>\n",
       "    </tr>\n",
       "  </tbody>\n",
       "</table>\n",
       "</div>"
      ],
      "text/plain": [
       "     radius  perimeter      area  smoothness  compactness  symmetry\n",
       "0  1.266830   2.336026  0.824398    2.583037     2.511239  1.746086\n",
       "1 -1.617011   1.561956  2.031184    2.583037    -0.804851 -0.401968\n",
       "2  0.854853   1.432944  1.632166    1.556019     0.588681  0.513596\n",
       "3 -0.587068  -0.803259 -1.018222   -2.273539     2.511239  2.379938\n",
       "4 -1.617011   1.647964  1.937107    2.583037     0.124171 -0.401968"
      ]
     },
     "execution_count": 32,
     "metadata": {},
     "output_type": "execute_result"
    }
   ],
   "source": [
    "X2 = df_processed.drop(\"diagnosis_result\", axis=1)\n",
    "\n",
    "X2.head()"
   ]
  },
  {
   "cell_type": "code",
   "execution_count": 33,
   "metadata": {},
   "outputs": [
    {
     "data": {
      "text/plain": [
       "0    1\n",
       "1    0\n",
       "2    1\n",
       "3    1\n",
       "4    1\n",
       "Name: diagnosis_result, dtype: int64"
      ]
     },
     "execution_count": 33,
     "metadata": {},
     "output_type": "execute_result"
    }
   ],
   "source": [
    "y2 = df_processed['diagnosis_result']\n",
    "\n",
    "y2.head()"
   ]
  },
  {
   "cell_type": "code",
   "execution_count": 34,
   "metadata": {},
   "outputs": [],
   "source": [
    "X_train2, X_test2, y_train2, y_test2 = train_test_split(X2, y2, test_size= 0.2, random_state=42)"
   ]
  },
  {
   "cell_type": "markdown",
   "metadata": {},
   "source": [
    "## KNN"
   ]
  },
  {
   "cell_type": "markdown",
   "metadata": {},
   "source": [
    "### 1. Sklearn"
   ]
  },
  {
   "cell_type": "code",
   "execution_count": 35,
   "metadata": {},
   "outputs": [
    {
     "name": "stdout",
     "output_type": "stream",
     "text": [
      "5 neighbors sklearn model accuracy:  85.0\n",
      "5 neighbors sklearn model confusion matrix:  [[ 1  3]\n",
      " [ 0 16]]\n"
     ]
    },
    {
     "data": {
      "image/png": "[encoded data removed]",
      "text/plain": [
       "<Figure size 360x360 with 2 Axes>"
      ]
     },
     "metadata": {
      "needs_background": "light"
     },
     "output_type": "display_data"
    },
    {
     "name": "stdout",
     "output_type": "stream",
     "text": [
      "9 neighbors sklearn model accuracy:  80.0\n",
      "9 neighbors sklearn model confusion matrix:  [[ 2  2]\n",
      " [ 2 14]]\n"
     ]
    },
    {
     "data": {
      "image/png": "[encoded data removed]",
      "text/plain": [
       "<Figure size 360x360 with 2 Axes>"
      ]
     },
     "metadata": {
      "needs_background": "light"
     },
     "output_type": "display_data"
    }
   ],
   "source": [
    "# using 5 neighbors\n",
    "\n",
    "predictions_5_sklearn2 , accuracy_knn_5_sklearn2 = knn_sklearn(X_train2, y_train2, X_test2, y_test2,5)\n",
    "\n",
    "conf_matrix_knn_5_sklearn2 = confusion_matrix(y_test2, predictions_5_sklearn2)\n",
    "\n",
    "print(\"5 neighbors sklearn model accuracy: \", accuracy_knn_5_sklearn2 * 100)\n",
    "\n",
    "print(\"5 neighbors sklearn model confusion matrix: \",conf_matrix_knn_5_sklearn2)\n",
    "\n",
    "plot_conf_matrix(conf_matrix_knn_5_sklearn2)\n",
    "\n",
    "#______________________________________________________________#\n",
    "\n",
    "# using 9 neighbors\n",
    "\n",
    "predictions_9_sklearn2 ,accuracy_knn_9_sklearn2 = knn_sklearn(X_train2, y_train2, X_test2, y_test2,9)\n",
    "\n",
    "conf_matrix_knn_9_sklearn2 = confusion_matrix(y_test2, predictions_9_sklearn2)\n",
    "\n",
    "print(\"9 neighbors sklearn model accuracy: \", accuracy_knn_9_sklearn2 * 100)\n",
    "\n",
    "print(\"9 neighbors sklearn model confusion matrix: \",conf_matrix_knn_9_sklearn2)\n",
    "\n",
    "plot_conf_matrix(conf_matrix_knn_9_sklearn2)\n"
   ]
  },
  {
   "cell_type": "markdown",
   "metadata": {},
   "source": [
    "### 2. From scratch"
   ]
  },
  {
   "cell_type": "code",
   "execution_count": 36,
   "metadata": {},
   "outputs": [
    {
     "name": "stdout",
     "output_type": "stream",
     "text": [
      "5 neighbors from scratch model accuracy:  85.0\n",
      "5 neighbors from scratch model confusion matrix:  [[ 1  3]\n",
      " [ 0 16]]\n"
     ]
    },
    {
     "name": "stderr",
     "output_type": "stream",
     "text": [
      "C:\\Users\\MAI\\AppData\\Local\\Temp\\ipykernel_15600\\4114452165.py:30: FutureWarning: Unlike other reduction functions (e.g. `skew`, `kurtosis`), the default behavior of `mode` typically preserves the axis it acts along. In SciPy 1.11.0, this behavior will change: the default value of `keepdims` will become False, the `axis` over which the statistic is taken will be eliminated, and the value None will no longer be accepted. Set `keepdims` to True or False to avoid this warning.\n",
      "  majority = stats.mode(nearest_neighbours)[0][0]\n"
     ]
    },
    {
     "data": {
      "image/png": "[encoded data removed]",
      "text/plain": [
       "<Figure size 360x360 with 2 Axes>"
      ]
     },
     "metadata": {
      "needs_background": "light"
     },
     "output_type": "display_data"
    },
    {
     "name": "stdout",
     "output_type": "stream",
     "text": [
      "9 neighbors from scratch model accuracy:  80.0\n",
      "9 neighbors from scratch model confusion matrix:  [[ 2  2]\n",
      " [ 2 14]]\n"
     ]
    },
    {
     "name": "stderr",
     "output_type": "stream",
     "text": [
      "C:\\Users\\MAI\\AppData\\Local\\Temp\\ipykernel_15600\\4114452165.py:30: FutureWarning: Unlike other reduction functions (e.g. `skew`, `kurtosis`), the default behavior of `mode` typically preserves the axis it acts along. In SciPy 1.11.0, this behavior will change: the default value of `keepdims` will become False, the `axis` over which the statistic is taken will be eliminated, and the value None will no longer be accepted. Set `keepdims` to True or False to avoid this warning.\n",
      "  majority = stats.mode(nearest_neighbours)[0][0]\n"
     ]
    },
    {
     "data": {
      "image/png": "[encoded data removed]",
      "text/plain": [
       "<Figure size 360x360 with 2 Axes>"
      ]
     },
     "metadata": {
      "needs_background": "light"
     },
     "output_type": "display_data"
    }
   ],
   "source": [
    "# using 5 neighbors\n",
    "\n",
    "predictions_5_scratch2 , accuracy_knn_5_scratch2 = knn_scratch(X_train2, y_train2, X_test2, y_test2,5)\n",
    "\n",
    "conf_matrix_knn_5_scratch2 = confusion_matrix(y_test2, predictions_5_scratch2)\n",
    "\n",
    "print(\"5 neighbors from scratch model accuracy: \", accuracy_knn_5_scratch2 )\n",
    "\n",
    "print(\"5 neighbors from scratch model confusion matrix: \",conf_matrix_knn_5_scratch2)\n",
    "\n",
    "plot_conf_matrix(conf_matrix_knn_5_scratch2)\n",
    "\n",
    "#______________________________________________________________#\n",
    "\n",
    "# using 9 neighbors\n",
    "\n",
    "predictions_9_scratch2 ,accuracy_knn_9_scratch2 = knn_scratch(X_train2, y_train2, X_test2, y_test2,9)\n",
    "\n",
    "conf_matrix_knn_9_scratch2 = confusion_matrix(y_test2, predictions_9_scratch2)\n",
    "\n",
    "print(\"9 neighbors from scratch model accuracy: \", accuracy_knn_9_scratch2 )\n",
    "\n",
    "print(\"9 neighbors from scratch model confusion matrix: \",conf_matrix_knn_9_scratch2)\n",
    "\n",
    "plot_conf_matrix(conf_matrix_knn_9_scratch2)\n"
   ]
  },
  {
   "cell_type": "markdown",
   "metadata": {},
   "source": [
    "## RNN"
   ]
  },
  {
   "cell_type": "markdown",
   "metadata": {},
   "source": [
    "### 1. Sklearn"
   ]
  },
  {
   "cell_type": "code",
   "execution_count": 37,
   "metadata": {},
   "outputs": [
    {
     "name": "stdout",
     "output_type": "stream",
     "text": [
      "radius 40 sklearn model accuracy:  80.0\n",
      "radius 40 sklearn model confusion matrix:  [[ 0  4]\n",
      " [ 0 16]]\n"
     ]
    },
    {
     "data": {
      "image/png": "[encoded data removed]",
      "text/plain": [
       "<Figure size 360x360 with 2 Axes>"
      ]
     },
     "metadata": {
      "needs_background": "light"
     },
     "output_type": "display_data"
    },
    {
     "name": "stdout",
     "output_type": "stream",
     "text": [
      "radius 400 sklearn model accuracy:  80.0\n",
      "radius 400 sklearn model confusion matrix:  [[ 0  4]\n",
      " [ 0 16]]\n"
     ]
    },
    {
     "data": {
      "image/png": "[encoded data removed]",
      "text/plain": [
       "<Figure size 360x360 with 2 Axes>"
      ]
     },
     "metadata": {
      "needs_background": "light"
     },
     "output_type": "display_data"
    }
   ],
   "source": [
    "# using radius 40\n",
    "\n",
    "predictions_rnn_40_sklearn2 , accuracy_rnn_40_sklearn2 = rnn_sklearn(X_train2, y_train2, X_test2, y_test2,40.0)\n",
    "\n",
    "conf_matrix_rnn_40_sklearn2 = confusion_matrix(y_test2, predictions_rnn_40_sklearn2)\n",
    "\n",
    "print(\"radius 40 sklearn model accuracy: \", accuracy_rnn_40_sklearn2 * 100)\n",
    "\n",
    "print(\"radius 40 sklearn model confusion matrix: \",conf_matrix_rnn_40_sklearn2)\n",
    "\n",
    "plot_conf_matrix(conf_matrix_rnn_40_sklearn2)\n",
    "\n",
    "#______________________________________________________________#\n",
    "\n",
    "# using radius 400\n",
    "\n",
    "predictions_rnn_400_sklearn2 ,accuracy_rnn_400_sklearn2 = rnn_sklearn(X_train2, y_train2, X_test2, y_test2,400.0)\n",
    "\n",
    "conf_matrix_rnn_400_sklearn2 = confusion_matrix(y_test2, predictions_rnn_400_sklearn2)\n",
    "\n",
    "print(\"radius 400 sklearn model accuracy: \", accuracy_rnn_400_sklearn2 * 100)\n",
    "\n",
    "print(\"radius 400 sklearn model confusion matrix: \",conf_matrix_rnn_400_sklearn2)\n",
    "\n",
    "plot_conf_matrix(conf_matrix_rnn_400_sklearn2)\n"
   ]
  },
  {
   "cell_type": "markdown",
   "metadata": {},
   "source": [
    "### 2. From Scratch"
   ]
  },
  {
   "cell_type": "code",
   "execution_count": 38,
   "metadata": {},
   "outputs": [
    {
     "name": "stderr",
     "output_type": "stream",
     "text": [
      "C:\\Users\\MAI\\AppData\\Local\\Temp\\ipykernel_15600\\3840006426.py:27: FutureWarning: Unlike other reduction functions (e.g. `skew`, `kurtosis`), the default behavior of `mode` typically preserves the axis it acts along. In SciPy 1.11.0, this behavior will change: the default value of `keepdims` will become False, the `axis` over which the statistic is taken will be eliminated, and the value None will no longer be accepted. Set `keepdims` to True or False to avoid this warning.\n",
      "  majority = stats.mode(neighbours)[0][0]\n"
     ]
    },
    {
     "name": "stdout",
     "output_type": "stream",
     "text": [
      "radius 40 from scratch model accuracy:  80.0\n",
      "radius 40 from scratch model confusion matrix:  [[ 0  4]\n",
      " [ 0 16]]\n"
     ]
    },
    {
     "data": {
      "image/png": "[encoded data removed]",
      "text/plain": [
       "<Figure size 360x360 with 2 Axes>"
      ]
     },
     "metadata": {
      "needs_background": "light"
     },
     "output_type": "display_data"
    },
    {
     "name": "stderr",
     "output_type": "stream",
     "text": [
      "C:\\Users\\MAI\\AppData\\Local\\Temp\\ipykernel_15600\\3840006426.py:27: FutureWarning: Unlike other reduction functions (e.g. `skew`, `kurtosis`), the default behavior of `mode` typically preserves the axis it acts along. In SciPy 1.11.0, this behavior will change: the default value of `keepdims` will become False, the `axis` over which the statistic is taken will be eliminated, and the value None will no longer be accepted. Set `keepdims` to True or False to avoid this warning.\n",
      "  majority = stats.mode(neighbours)[0][0]\n"
     ]
    },
    {
     "name": "stdout",
     "output_type": "stream",
     "text": [
      "radius 400 from scratch model accuracy:  80.0\n",
      "radius 400 from scratch model confusion matrix:  [[ 0  4]\n",
      " [ 0 16]]\n"
     ]
    },
    {
     "data": {
      "image/png": "[encoded data removed]",
      "text/plain": [
       "<Figure size 360x360 with 2 Axes>"
      ]
     },
     "metadata": {
      "needs_background": "light"
     },
     "output_type": "display_data"
    }
   ],
   "source": [
    "# using radius 40\n",
    "\n",
    "predictions_rnn_40_scratch2 , accuracy_rnn_40_scratch2 = rnn_scratch(X_train2, y_train2, X_test2, y_test2,40.0)\n",
    "\n",
    "conf_matrix_rnn_40_scratch2 = confusion_matrix(y_test2, predictions_rnn_40_scratch2)\n",
    "\n",
    "print(\"radius 40 from scratch model accuracy: \", accuracy_rnn_40_scratch2)\n",
    "\n",
    "print(\"radius 40 from scratch model confusion matrix: \",conf_matrix_rnn_40_scratch2)\n",
    "\n",
    "plot_conf_matrix(conf_matrix_rnn_40_scratch2)\n",
    "\n",
    "#______________________________________________________________#\n",
    "\n",
    "# using radius 400\n",
    "\n",
    "predictions_rnn_400_scratch2 ,accuracy_rnn_400_scratch2 = rnn_scratch(X_train2, y_train2, X_test2, y_test2,400.0)\n",
    "\n",
    "conf_matrix_rnn_400_scratch2 = confusion_matrix(y_test2, predictions_rnn_400_scratch2)\n",
    "\n",
    "print(\"radius 400 from scratch model accuracy: \", accuracy_rnn_400_scratch2)\n",
    "\n",
    "print(\"radius 400 from scratch model confusion matrix: \",conf_matrix_rnn_400_scratch2)\n",
    "\n",
    "plot_conf_matrix(conf_matrix_rnn_400_scratch2)\n"
   ]
  },
  {
   "cell_type": "markdown",
   "metadata": {},
   "source": [
    "# Observations"
   ]
  },
  {
   "cell_type": "markdown",
   "metadata": {},
   "source": [
    "### For kNN model : "
   ]
  },
  {
   "cell_type": "markdown",
   "metadata": {},
   "source": [
    "The accuracy of both sklearn and from scratch models improved with data processing in both number of neighbours."
   ]
  },
  {
   "cell_type": "markdown",
   "metadata": {},
   "source": [
    "### For rNN model :"
   ]
  },
  {
   "cell_type": "markdown",
   "metadata": {},
   "source": [
    "The accuracy with data processing improved only for the small value of radius (40)."
   ]
  }
 ],
 "metadata": {
  "kernelspec": {
   "display_name": "base",
   "language": "python",
   "name": "python3"
  },
  "language_info": {
   "codemirror_mode": {
    "name": "ipython",
    "version": 3
   },
   "file_extension": ".py",
   "mimetype": "text/x-python",
   "name": "python",
   "nbconvert_exporter": "python",
   "pygments_lexer": "ipython3",
   "version": "3.10.8"
  }
 },
 "nbformat": 4,
 "nbformat_minor": 2
}
